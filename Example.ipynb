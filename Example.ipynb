{
 "cells": [
  {
   "cell_type": "markdown",
   "id": "b005a26c-6afb-4681-96a3-0402f426458d",
   "metadata": {},
   "source": [
    "# Example Notebook\n",
    "\n",
    "This is a stupid example.\n",
    "\n",
    "$$E = mc^2$$"
   ]
  },
  {
   "cell_type": "code",
   "execution_count": 2,
   "id": "45bfefde-8a79-4b39-afbc-a3dce2dd50a6",
   "metadata": {},
   "outputs": [
    {
     "name": "stdout",
     "output_type": "stream",
     "text": [
      "Hello World!\n"
     ]
    }
   ],
   "source": [
    "print(\"Hello World!\")"
   ]
  },
  {
   "cell_type": "code",
   "execution_count": null,
   "id": "7ffb3ae9-87a1-45ed-a659-fec0aa23da90",
   "metadata": {},
   "outputs": [],
   "source": []
  }
 ],
 "metadata": {
  "kernelspec": {
   "display_name": "Python 3 (ipykernel)",
   "language": "python",
   "name": "python3"
  },
  "language_info": {
   "codemirror_mode": {
    "name": "ipython",
    "version": 3
   },
   "file_extension": ".py",
   "mimetype": "text/x-python",
   "name": "python",
   "nbconvert_exporter": "python",
   "pygments_lexer": "ipython3",
   "version": "3.12.7"
  }
 },
 "nbformat": 4,
 "nbformat_minor": 5
}
